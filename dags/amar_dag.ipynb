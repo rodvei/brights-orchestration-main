{
 "cells": [
  {
   "cell_type": "markdown",
   "id": "d6bd0a24",
   "metadata": {
    "ExecuteTime": {
     "end_time": "2023-02-06T08:42:47.761830Z",
     "start_time": "2023-02-06T08:42:47.748897Z"
    }
   },
   "source": [
    "# Imports"
   ]
  },
  {
   "cell_type": "code",
   "execution_count": 7,
   "id": "c70e8043",
   "metadata": {
    "ExecuteTime": {
     "end_time": "2023-02-06T12:11:37.192854Z",
     "start_time": "2023-02-06T12:11:35.616984Z"
    }
   },
   "outputs": [],
   "source": [
    "import datetime\n",
    "from google.cloud import storage\n",
    "from airflow import DAG\n",
    "from airflow.operators.python import PythonOperator\n",
    "from airflow.providers.papermill.operators.papermill import PapermillOperator"
   ]
  },
  {
   "cell_type": "markdown",
   "id": "fe5079ad",
   "metadata": {
    "ExecuteTime": {
     "end_time": "2023-02-06T08:42:46.080378Z",
     "start_time": "2023-02-06T08:42:46.062382Z"
    }
   },
   "source": [
    "# define dag"
   ]
  },
  {
   "cell_type": "code",
   "execution_count": 8,
   "id": "f0d2d909",
   "metadata": {
    "ExecuteTime": {
     "end_time": "2023-02-06T12:12:11.931945Z",
     "start_time": "2023-02-06T12:12:11.922941Z"
    }
   },
   "outputs": [],
   "source": [
    "default_args = {\n",
    "    \"owner\": \"Amar\",\n",
    "    \"retries\": 5,\n",
    "    \"retry_delay\": datetime.timedelta(minutes=5),\n",
    "    \"start_date\": datetime.datetime(2023, 2, 4),\n",
    "}\n"
   ]
  },
  {
   "cell_type": "markdown",
   "id": "a354aa7d",
   "metadata": {
    "ExecuteTime": {
     "end_time": "2023-02-06T12:13:33.273088Z",
     "start_time": "2023-02-06T12:13:33.258091Z"
    }
   },
   "source": [
    "# Functions"
   ]
  },
  {
   "cell_type": "code",
   "execution_count": 13,
   "id": "ba05e54b",
   "metadata": {
    "ExecuteTime": {
     "end_time": "2023-02-06T12:19:07.148483Z",
     "start_time": "2023-02-06T12:19:07.135849Z"
    }
   },
   "outputs": [],
   "source": [
    "def joke():\n",
    "    print(\"Two hunters are out in the woods when one of them collapses. He doesn't seem to be breathing and his eyes are glazed. The other guy whips out his phone and calls the emergency services. He gasps, My friend is dead! What can I do? The operator says, Calm down. I can help. First, let's make sure he's dead. There is a silence; then a gun shot is heard. Back on the phone, the guy says, OK, now what?\")"
   ]
  },
  {
   "cell_type": "markdown",
   "id": "91cc0544",
   "metadata": {
    "ExecuteTime": {
     "end_time": "2023-02-06T12:13:40.447950Z",
     "start_time": "2023-02-06T12:13:40.437948Z"
    }
   },
   "source": [
    "# DAG"
   ]
  },
  {
   "cell_type": "code",
   "execution_count": 15,
   "id": "5ad91e7f",
   "metadata": {
    "ExecuteTime": {
     "end_time": "2023-02-06T12:23:43.135366Z",
     "start_time": "2023-02-06T12:23:43.125360Z"
    }
   },
   "outputs": [],
   "source": [
    "with DAG(\n",
    "    dag_id=\"joke_dag\",\n",
    "    description=\"amar1\",\n",
    "    default_args=default_args,\n",
    "    schedule=\"@daily\", #None, @hourly, @weekly, @monthly, @yearly,...\n",
    ") as dag:\n",
    "    run_python_task = PythonOperator(\n",
    "        task_id=\"amar_joke\", # This controls what your task name is in the airflow UI \n",
    "        python_callable=joke # This is the function that airflow will run \n",
    "    )"
   ]
  },
  {
   "cell_type": "markdown",
   "id": "cf62438d",
   "metadata": {},
   "source": [
    "notebook_task = PapermillOperator(\n",
    "        task_id=\"run_example_notebook\",\n",
    "        input_nb=\"include/example_notebook.ipynb\",\n",
    "        output_nb=\"include/out-{{ execution_date }}.ipynb\",\n",
    "        parameters={\"execution_date\": \"{{ execution_date }}\"},\n",
    "    )"
   ]
  }
 ],
 "metadata": {
  "kernelspec": {
   "display_name": "Python 3 (ipykernel)",
   "language": "python",
   "name": "python3"
  },
  "language_info": {
   "codemirror_mode": {
    "name": "ipython",
    "version": 3
   },
   "file_extension": ".py",
   "mimetype": "text/x-python",
   "name": "python",
   "nbconvert_exporter": "python",
   "pygments_lexer": "ipython3",
   "version": "3.9.12"
  },
  "nbTranslate": {
   "displayLangs": [
    "*"
   ],
   "hotkey": "alt-t",
   "langInMainMenu": true,
   "sourceLang": "en",
   "targetLang": "fr",
   "useGoogleTranslate": true
  },
  "toc": {
   "base_numbering": 1,
   "nav_menu": {},
   "number_sections": true,
   "sideBar": true,
   "skip_h1_title": false,
   "title_cell": "Table of Contents",
   "title_sidebar": "Contents",
   "toc_cell": false,
   "toc_position": {},
   "toc_section_display": true,
   "toc_window_display": false
  },
  "varInspector": {
   "cols": {
    "lenName": 16,
    "lenType": 16,
    "lenVar": 40
   },
   "kernels_config": {
    "python": {
     "delete_cmd_postfix": "",
     "delete_cmd_prefix": "del ",
     "library": "var_list.py",
     "varRefreshCmd": "print(var_dic_list())"
    },
    "r": {
     "delete_cmd_postfix": ") ",
     "delete_cmd_prefix": "rm(",
     "library": "var_list.r",
     "varRefreshCmd": "cat(var_dic_list()) "
    }
   },
   "types_to_exclude": [
    "module",
    "function",
    "builtin_function_or_method",
    "instance",
    "_Feature"
   ],
   "window_display": false
  }
 },
 "nbformat": 4,
 "nbformat_minor": 5
}
