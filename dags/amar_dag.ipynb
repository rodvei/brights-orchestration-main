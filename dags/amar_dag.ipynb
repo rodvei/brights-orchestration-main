{
 "cells": [
  {
   "cell_type": "markdown",
   "id": "cc6272a1",
   "metadata": {
    "ExecuteTime": {
     "end_time": "2023-02-06T08:42:47.761830Z",
     "start_time": "2023-02-06T08:42:47.748897Z"
    }
   },
   "source": [
    "# Imports"
   ]
  },
  {
   "cell_type": "code",
   "execution_count": 1,
   "id": "28bb8055",
   "metadata": {
    "ExecuteTime": {
     "end_time": "2023-02-06T09:25:51.976256Z",
     "start_time": "2023-02-06T09:25:51.964241Z"
    }
   },
   "outputs": [],
   "source": [
    "import datetime"
   ]
  },
  {
   "cell_type": "markdown",
   "id": "46ea26d7",
   "metadata": {
    "ExecuteTime": {
     "end_time": "2023-02-06T08:42:46.080378Z",
     "start_time": "2023-02-06T08:42:46.062382Z"
    }
   },
   "source": [
    "# define dag"
   ]
  },
  {
   "cell_type": "code",
   "execution_count": null,
   "id": "463ca9a1",
   "metadata": {},
   "outputs": [],
   "source": []
  },
  {
   "cell_type": "code",
   "execution_count": null,
   "id": "5aaeb4a8",
   "metadata": {},
   "outputs": [],
   "source": []
  }
 ],
 "metadata": {
  "kernelspec": {
   "display_name": "base",
   "language": "python",
   "name": "python3"
  },
  "language_info": {
   "codemirror_mode": {
    "name": "ipython",
    "version": 3
   },
   "file_extension": ".py",
   "mimetype": "text/x-python",
   "name": "python",
   "nbconvert_exporter": "python",
   "pygments_lexer": "ipython3",
   "version": "3.9.12"
  },
  "nbTranslate": {
   "displayLangs": [
    "*"
   ],
   "hotkey": "alt-t",
   "langInMainMenu": true,
   "sourceLang": "en",
   "targetLang": "fr",
   "useGoogleTranslate": true
  },
  "toc": {
   "base_numbering": 1,
   "nav_menu": {},
   "number_sections": true,
   "sideBar": true,
   "skip_h1_title": false,
   "title_cell": "Table of Contents",
   "title_sidebar": "Contents",
   "toc_cell": false,
   "toc_position": {},
   "toc_section_display": true,
   "toc_window_display": false
  },
  "varInspector": {
   "cols": {
    "lenName": 16,
    "lenType": 16,
    "lenVar": 40
   },
   "kernels_config": {
    "python": {
     "delete_cmd_postfix": "",
     "delete_cmd_prefix": "del ",
     "library": "var_list.py",
     "varRefreshCmd": "print(var_dic_list())"
    },
    "r": {
     "delete_cmd_postfix": ") ",
     "delete_cmd_prefix": "rm(",
     "library": "var_list.r",
     "varRefreshCmd": "cat(var_dic_list()) "
    }
   },
   "types_to_exclude": [
    "module",
    "function",
    "builtin_function_or_method",
    "instance",
    "_Feature"
   ],
   "window_display": false
  },
  "vscode": {
   "interpreter": {
    "hash": "44e2b9d218a94bd0ad1d0ec46f6d2521bc32d27ffd2cfbaaa9d09c87eb326622"
   }
  }
 },
 "nbformat": 4,
 "nbformat_minor": 5
}
